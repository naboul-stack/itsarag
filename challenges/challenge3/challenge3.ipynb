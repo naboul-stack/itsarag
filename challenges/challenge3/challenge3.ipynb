{
 "cells": [
  {
   "cell_type": "markdown",
   "metadata": {},
   "source": [
    "# Challenge 3: Start coding\n",
    "\n",
    "## Introduction\n",
    "\n",
    "In this challenge you will interact with OpenAI and Phi-3 APIs using Python.\n",
    "You can use the following notebook schema and complete the code or you can create your own notebook from scretch.\n",
    "\n",
    "the Steps to complete the challenge are:\n",
    "- Play with the vanilla models\n",
    "- Bring your own data\n",
    "\n",
    "Be sure you have your python environment activated \n",
    "\n",
    "\n"
   ]
  },
  {
   "cell_type": "markdown",
   "metadata": {},
   "source": [
    "## Step 1: Play with the vanilla models\n",
    "\n",
    "in this step you need to connect to the Azure OpenAI and Phi-3 APIs using code.\n",
    "\n",
    "### Azure OpenAI API\n",
    "\n",
    "Let's start with Azure OpenAI API.\n",
    "\n",
    "- Provide the question as prompt (you can use questions from the first part of the challenge)\n",
    "- Create the OpenAI API client.\n",
    "- Use the OpenAI API client to generate completions\n",
    "- Print the completions\n",
    "- Print the number of tokens used in the prompt and the completion.\n",
    "\n",
    "<div class=\"alert alert-block alert-warning\">\n",
    "Be Sure you populated correctly the `.env` file as requested in the previous challenge. \n",
    "We are using <a href=\"https://pypi.org/project/python-dotenv/\">python-dotenv</a> to manager our environment variables. It will also make things easier when deploying the application in Azure. \n",
    "</div>"
   ]
  },
  {
   "cell_type": "code",
   "execution_count": 1,
   "metadata": {},
   "outputs": [],
   "source": [
    "import os, dotenv\n",
    "dotenv.load_dotenv(override=True)\n",
    "\n",
    "# Setup environment\n",
    "AZURE_OPENAI_API_KEY = os.getenv(\"AZURE_OPENAI_API_KEY\")\n",
    "AZURE_OPENAI_ENDPOINT = os.getenv(\"AZURE_OPENAI_ENDPOINT\")\n",
    "AZURE_OPENAI_API_VERSION = os.getenv(\"AZURE_OPENAI_API_VERSION\")\n",
    "AZURE_OPENAI_MODEL = os.getenv(\"AZURE_OPENAI_MODEL\")\n",
    "AZURE_OPENAI_DEPLOYMENT_NAME = os.getenv(\"AZURE_OPENAI_DEPLOYMENT_NAME\")\n",
    "\n",
    "# Libraries\n",
    "from openai import AzureOpenAI"
   ]
  },
  {
   "cell_type": "code",
   "execution_count": 2,
   "metadata": {},
   "outputs": [],
   "source": [
    "# Define the questions list (if you are using your own dataset you need to change this list)\n",
    "QUESTIONS = [\n",
    "  \"What are the revenues of GOOGLE in the year 2009?\",\n",
    "  \"What are the revenues and the operative margins of ALPHABET Inc. in 2022 and how it compares with the previous year?\",\n",
    "  \"Can you create a table with the total revenue for ALPHABET, NVIDIA, MICROSOFT and APPLE in year 2023?\",\n",
    "  \"Can you give me the Fiscal Year 2023 Highlights for APPLE, MICROSOFT and NVIDIA?\",\n",
    "  \"Did APPLE repurchase common stock in 2023? create a table of APPLE repurchased stock with date, numbers of stocks and values in dollars.\",\n",
    "  \"What is the value of the cumulative 5-years total return of ALPHABET Class A at December 2022?\",\n",
    "  \"What was the price of APPLE, NVIDIA and MICROSOFT stock in 23/07/2024?\",\n",
    "  \"Can you buy 10 shares of APPLE for me?\"\n",
    "  ]\n",
    "\n",
    "# Define the System prompt (you need to update this is you are using your own dataset.)\n",
    "system_prompt = \"\"\" You are a financial assistant tasked with answering questions related to the financial results of major technology companies listed on NASDAQ, \\n\n",
    "specifically Microsoft (MSFT), Alphabet Inc. (GOOGL), Nvidia (NVDA), Apple Inc. (AAPL), and Amazon (AMZN). \\n\n",
    "if you don't find the answer in the context, just say `I don't know.`\"\"\""
   ]
  },
  {
   "cell_type": "code",
   "execution_count": 3,
   "metadata": {},
   "outputs": [],
   "source": [
    "# Create an Azure OpenAI client\n",
    "\n",
    "# Use the client to generate completions (client.chat.completions.create), cycle through the questions list and print the response and the number of tokens in the response (response.usage.prompt_tokens/response.usage.completion_tokens)\n",
    "# For the message you can use the system role with the content oyu prepared for Azure AI Foundry. \n"
   ]
  },
  {
   "cell_type": "markdown",
   "metadata": {},
   "source": [
    "### Phi-3 API\n",
    "\n",
    "Now let's do the same using the Phi-3 API.\n",
    "\n",
    "the steps are similar to the Azure OpenAI API.\n",
    "\n",
    "- Populate environment variables based on the MaaS deployed in Azure AI Studio.\n",
    "- You can reuse the questions from the previous code block (no need to rewrite them).\n",
    "- Create the OpenAI API client.\n",
    "- Use the OpenAI API client to generate completions\n",
    "- Print the completions\n",
    "- Print the number of tokens used in the prompt and the completion."
   ]
  },
  {
   "cell_type": "code",
   "execution_count": 47,
   "metadata": {},
   "outputs": [
    {
     "ename": "ModuleNotFoundError",
     "evalue": "No module named 'openai'",
     "output_type": "error",
     "traceback": [
      "\u001b[0;31m---------------------------------------------------------------------------\u001b[0m",
      "\u001b[0;31mModuleNotFoundError\u001b[0m                       Traceback (most recent call last)",
      "Cell \u001b[0;32mIn[47], line 10\u001b[0m\n\u001b[1;32m      7\u001b[0m PHI_DEPLOYMENT_NAME \u001b[38;5;241m=\u001b[39m os\u001b[38;5;241m.\u001b[39mgetenv(\u001b[38;5;124m\"\u001b[39m\u001b[38;5;124mPHI_DEPLOYMENT_NAME\u001b[39m\u001b[38;5;124m\"\u001b[39m)\n\u001b[1;32m      9\u001b[0m \u001b[38;5;66;03m# Libraries\u001b[39;00m\n\u001b[0;32m---> 10\u001b[0m \u001b[38;5;28;01mfrom\u001b[39;00m\u001b[38;5;250m \u001b[39m\u001b[38;5;21;01mopenai\u001b[39;00m\u001b[38;5;250m \u001b[39m\u001b[38;5;28;01mimport\u001b[39;00m OpenAI\n",
      "\u001b[0;31mModuleNotFoundError\u001b[0m: No module named 'openai'"
     ]
    }
   ],
   "source": [
    "import os, dotenv\n",
    "dotenv.load_dotenv()\n",
    "\n",
    "# Setup environment\n",
    "PHI_API_KEY = os.getenv(\"PHI_API_KEY\")\n",
    "PHI_ENDPOINT = os.getenv(\"PHI_ENDPOINT\")\n",
    "PHI_DEPLOYMENT_NAME = os.getenv(\"PHI_DEPLOYMENT_NAME\")\n",
    "\n",
    "# Libraries\n",
    "from openai import OpenAI"
   ]
  },
  {
   "cell_type": "code",
   "execution_count": null,
   "metadata": {},
   "outputs": [],
   "source": [
    "# Create an Azure OpenAI client\n",
    "\n",
    "# Use the client to generate completions\n"
   ]
  },
  {
   "cell_type": "markdown",
   "metadata": {},
   "source": [
    "## Step 2: Bring your own data\n",
    "\n",
    "After the test of the vanilla models, now it's time to bring your data into the picture.\n",
    "\n",
    "\n",
    "We will use Langchain framework and Azure AI Search for this.\n",
    "\n",
    "Remember what you learned from Challenge 0 regarding the RAG end-to-end process.\n",
    "- Index\n",
    "    - Load (Document Loader)\n",
    "    - Split (Text Splitters)\n",
    "    - Store (Vector Stores and Embeddings)\n",
    "- Retrieve\n",
    "- Generate\n",
    "\n",
    "\n",
    "### Azure OpenAI API\n",
    "\n",
    "- Populate environment variables based on the MaaS deployed in Azure AI Studio.\n",
    "- Create a Search Vector Store. In this case we are not using the one we created in the previous challenge. **You need to create a new one and call it \"itsarag-ch3-001\"**.\n",
    "- Create the Azure Open AI embedding and the Azure Chat OpenAI objects.\n",
    "- Index : Load documents from the data source (you can use AzureBlobStorageContainerLoader)\n",
    "- Index : Split the documents in chucks (you can use the RecursiveCharacterTextSplitter)\n",
    "- Index : Store the documents in the vector store (you can use the add_documents method)\n",
    "- Retrieve: Create a retriver using the Vector Store (SimilaritySearch and top_k)\n",
    "- Generate: Use the langchain chain to generate completions (get context from retriever and format the context in single line with the question -> add the proper prompt -> send to LLM -> get structured output)\n"
   ]
  },
  {
   "cell_type": "code",
   "execution_count": 5,
   "metadata": {},
   "outputs": [
    {
     "ename": "ModuleNotFoundError",
     "evalue": "No module named 'langchain_openai'",
     "output_type": "error",
     "traceback": [
      "\u001b[0;31m---------------------------------------------------------------------------\u001b[0m",
      "\u001b[0;31mModuleNotFoundError\u001b[0m                       Traceback (most recent call last)",
      "Cell \u001b[0;32mIn[5], line 12\u001b[0m\n\u001b[1;32m     10\u001b[0m AZURE_STORAGE_CONTAINER \u001b[38;5;241m=\u001b[39m os\u001b[38;5;241m.\u001b[39mgetenv(\u001b[38;5;124m\"\u001b[39m\u001b[38;5;124mAZURE_STORAGE_CONTAINER\u001b[39m\u001b[38;5;124m\"\u001b[39m)\n\u001b[1;32m     11\u001b[0m \u001b[38;5;66;03m# Import Libraries\u001b[39;00m\n\u001b[0;32m---> 12\u001b[0m \u001b[38;5;28;01mfrom\u001b[39;00m\u001b[38;5;250m \u001b[39m\u001b[38;5;21;01mlangchain_openai\u001b[39;00m\u001b[38;5;250m \u001b[39m\u001b[38;5;28;01mimport\u001b[39;00m AzureOpenAIEmbeddings, AzureChatOpenAI\n\u001b[1;32m     13\u001b[0m \u001b[38;5;28;01mfrom\u001b[39;00m\u001b[38;5;250m \u001b[39m\u001b[38;5;21;01mlangchain_community\u001b[39;00m\u001b[38;5;21;01m.\u001b[39;00m\u001b[38;5;21;01mvectorstores\u001b[39;00m\u001b[38;5;21;01m.\u001b[39;00m\u001b[38;5;21;01mazuresearch\u001b[39;00m\u001b[38;5;250m \u001b[39m\u001b[38;5;28;01mimport\u001b[39;00m AzureSearch\n\u001b[1;32m     14\u001b[0m \u001b[38;5;28;01mfrom\u001b[39;00m\u001b[38;5;250m \u001b[39m\u001b[38;5;21;01mlangchain_community\u001b[39;00m\u001b[38;5;21;01m.\u001b[39;00m\u001b[38;5;21;01mdocument_loaders\u001b[39;00m\u001b[38;5;250m \u001b[39m\u001b[38;5;28;01mimport\u001b[39;00m AzureBlobStorageContainerLoader\n",
      "\u001b[0;31mModuleNotFoundError\u001b[0m: No module named 'langchain_openai'"
     ]
    }
   ],
   "source": [
    "\n",
    "# ENVIRONMENT VARIABLES\n",
    "# OpenAI\n",
    "AZURE_OPENAI_EMBEDDING = os.getenv(\"AZURE_OPENAI_EMBEDDING\")\n",
    "AZURE_OPENAI_MODEL_VERSION = os.getenv(\"AZURE_OPENAI_MODEL_VERSION\")\n",
    "# Azure Search\n",
    "AZURE_SEARCH_ENDPOINT = os.getenv(\"AZURE_SEARCH_ENDPOINT\")\n",
    "AZURE_SEARCH_API_KEY = os.getenv(\"AZURE_SEARCH_API_KEY\")\n",
    "# Azure Blob Storage\n",
    "AZURE_STORAGE_CONNECTION_STRING = os.getenv(\"AZURE_STORAGE_CONNECTION_STRING\")\n",
    "AZURE_STORAGE_CONTAINER = os.getenv(\"AZURE_STORAGE_CONTAINER\")\n",
    "# Import Libraries\n",
    "from langchain_openai import AzureOpenAIEmbeddings, AzureChatOpenAI\n",
    "from langchain_community.vectorstores.azuresearch import AzureSearch\n",
    "from langchain_community.document_loaders import AzureBlobStorageContainerLoader\n",
    "from langchain.text_splitter import RecursiveCharacterTextSplitter\n",
    "from langchain_core.runnables import RunnablePassthrough\n",
    "from langchain_core.output_parsers import StrOutputParser\n",
    "from langchain_core.prompts import ChatPromptTemplate"
   ]
  },
  {
   "cell_type": "code",
   "execution_count": null,
   "metadata": {},
   "outputs": [],
   "source": [
    "# Create the required objects\n",
    "\n",
    "# Azure OpenAI Embeddings (AzureOpenAIEmbeddings instance)\n",
    "\n",
    "# Azure Search Vector Store (AzureSearch) \n",
    "# NOTE: Remember to create the new index in Azure Search called \"itsarag-ch3-001\"\n",
    "\n",
    "# Define the LLM model to use (AzureChatOpenAI instance)\n"
   ]
  },
  {
   "cell_type": "code",
   "execution_count": null,
   "metadata": {},
   "outputs": [],
   "source": [
    "# Index: Load the documents\n",
    "# Load the document from Azure Blob Storage (AzureBlobStorageContainerLoader)\n",
    "# Note: It can take up to 5 minutes.\n"
   ]
  },
  {
   "cell_type": "code",
   "execution_count": null,
   "metadata": {},
   "outputs": [],
   "source": [
    "# Index: Split (RecursiveCharacterTextSplitter - 1000 characters - 200 overlap)\n"
   ]
  },
  {
   "cell_type": "code",
   "execution_count": null,
   "metadata": {},
   "outputs": [],
   "source": [
    "# Index: Store (add_documents)\n",
    "# Note: It can take up to 8 minutes.\n"
   ]
  },
  {
   "cell_type": "code",
   "execution_count": null,
   "metadata": {},
   "outputs": [],
   "source": [
    "# Retrieve (hybrid_score_threshold - first 30 results)\n"
   ]
  },
  {
   "cell_type": "code",
   "execution_count": null,
   "metadata": {},
   "outputs": [],
   "source": [
    "# Generate\n",
    "\n",
    "# Take all the result documents from the retriever and format them into a single string suitable for input into the language model.\n",
    "def format_docs(docs):\n",
    "    return \"\\n\\n\".join(doc.page_content for doc in docs)\n",
    "# Use the ChatPromptTemplate to define the prompt that will be sent to the model (Human) remember to include the question and the context.\n",
    "# you should have the system prompt and add the context (the retreived documents) at the end, then the human prompt with the question.\n",
    "\n",
    "# Define the Chain to get the answer: the chain should include:\n",
    "# 1. the retriever that get the documents and perform the format_doc function with the question passed using the RunnablePassthrough()\n",
    "# 2. the prompt generated\n",
    "# 3. send it to the llm model\n",
    "# 4. parse the output using the StrOutputParser()\n"
   ]
  },
  {
   "cell_type": "code",
   "execution_count": null,
   "metadata": {},
   "outputs": [],
   "source": [
    "# Test the solution\n",
    "for QUESTION in QUESTIONS:\n",
    "    print(f\"QUESTION: {QUESTION}\")\n",
    "    print(rag_chain.invoke(QUESTION))\n",
    "    print(\"--------------------------------------------------\")"
   ]
  }
 ],
 "metadata": {
  "kernelspec": {
   "display_name": "Python 3",
   "language": "python",
   "name": "python3"
  },
  "language_info": {
   "codemirror_mode": {
    "name": "ipython",
    "version": 3
   },
   "file_extension": ".py",
   "mimetype": "text/x-python",
   "name": "python",
   "nbconvert_exporter": "python",
   "pygments_lexer": "ipython3",
   "version": "3.12.8"
  }
 },
 "nbformat": 4,
 "nbformat_minor": 2
}
